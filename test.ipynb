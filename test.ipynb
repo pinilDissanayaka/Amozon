{
 "cells": [
  {
   "cell_type": "code",
   "execution_count": 1,
   "id": "dcdfd0f2",
   "metadata": {},
   "outputs": [],
   "source": [
    "import pandas as pd"
   ]
  },
  {
   "cell_type": "code",
   "execution_count": null,
   "id": "a112032d",
   "metadata": {},
   "outputs": [],
   "source": []
  },
  {
   "cell_type": "code",
   "execution_count": null,
   "id": "97f9a430",
   "metadata": {},
   "outputs": [],
   "source": [
    "df = pd.read_csv(\"output.csv\")"
   ]
  },
  {
   "cell_type": "code",
   "execution_count": 4,
   "id": "d5d36f6b",
   "metadata": {},
   "outputs": [
    {
     "data": {
      "text/html": [
       "<div>\n",
       "<style scoped>\n",
       "    .dataframe tbody tr th:only-of-type {\n",
       "        vertical-align: middle;\n",
       "    }\n",
       "\n",
       "    .dataframe tbody tr th {\n",
       "        vertical-align: top;\n",
       "    }\n",
       "\n",
       "    .dataframe thead th {\n",
       "        text-align: right;\n",
       "    }\n",
       "</style>\n",
       "<table border=\"1\" class=\"dataframe\">\n",
       "  <thead>\n",
       "    <tr style=\"text-align: right;\">\n",
       "      <th></th>\n",
       "      <th>Link of the Product</th>\n",
       "      <th>Keyword</th>\n",
       "      <th>Product ID</th>\n",
       "    </tr>\n",
       "  </thead>\n",
       "  <tbody>\n",
       "    <tr>\n",
       "      <th>0</th>\n",
       "      <td>https://www.ebay.com.au/itm/187196293335</td>\n",
       "      <td>tool bag</td>\n",
       "      <td>187196293335</td>\n",
       "    </tr>\n",
       "    <tr>\n",
       "      <th>1</th>\n",
       "      <td>https://www.ebay.com.au/itm/187196293335</td>\n",
       "      <td>tool bag</td>\n",
       "      <td>187196293335</td>\n",
       "    </tr>\n",
       "    <tr>\n",
       "      <th>2</th>\n",
       "      <td>https://www.ebay.com.au/itm/187196293335</td>\n",
       "      <td>tool tote</td>\n",
       "      <td>187196293335</td>\n",
       "    </tr>\n",
       "    <tr>\n",
       "      <th>3</th>\n",
       "      <td>https://www.ebay.com.au/itm/187196293335</td>\n",
       "      <td>tool bag heavy duty</td>\n",
       "      <td>187196293335</td>\n",
       "    </tr>\n",
       "    <tr>\n",
       "      <th>4</th>\n",
       "      <td>https://www.ebay.com.au/itm/187196293335</td>\n",
       "      <td>tool bag with wheels</td>\n",
       "      <td>187196293335</td>\n",
       "    </tr>\n",
       "  </tbody>\n",
       "</table>\n",
       "</div>"
      ],
      "text/plain": [
       "                        Link of the Product               Keyword  \\\n",
       "0  https://www.ebay.com.au/itm/187196293335              tool bag   \n",
       "1  https://www.ebay.com.au/itm/187196293335              tool bag   \n",
       "2  https://www.ebay.com.au/itm/187196293335             tool tote   \n",
       "3  https://www.ebay.com.au/itm/187196293335   tool bag heavy duty   \n",
       "4  https://www.ebay.com.au/itm/187196293335  tool bag with wheels   \n",
       "\n",
       "     Product ID  \n",
       "0  187196293335  \n",
       "1  187196293335  \n",
       "2  187196293335  \n",
       "3  187196293335  \n",
       "4  187196293335  "
      ]
     },
     "execution_count": 4,
     "metadata": {},
     "output_type": "execute_result"
    }
   ],
   "source": [
    "df.head()"
   ]
  },
  {
   "cell_type": "code",
   "execution_count": 7,
   "id": "6f173045",
   "metadata": {},
   "outputs": [],
   "source": [
    "df = df.drop_duplicates()\n"
   ]
  },
  {
   "cell_type": "code",
   "execution_count": 8,
   "id": "0b18a583",
   "metadata": {},
   "outputs": [
    {
     "data": {
      "text/html": [
       "<div>\n",
       "<style scoped>\n",
       "    .dataframe tbody tr th:only-of-type {\n",
       "        vertical-align: middle;\n",
       "    }\n",
       "\n",
       "    .dataframe tbody tr th {\n",
       "        vertical-align: top;\n",
       "    }\n",
       "\n",
       "    .dataframe thead th {\n",
       "        text-align: right;\n",
       "    }\n",
       "</style>\n",
       "<table border=\"1\" class=\"dataframe\">\n",
       "  <thead>\n",
       "    <tr style=\"text-align: right;\">\n",
       "      <th></th>\n",
       "      <th>Link of the Product</th>\n",
       "      <th>Keyword</th>\n",
       "      <th>Product ID</th>\n",
       "    </tr>\n",
       "  </thead>\n",
       "  <tbody>\n",
       "    <tr>\n",
       "      <th>0</th>\n",
       "      <td>https://www.ebay.com.au/itm/187196293335</td>\n",
       "      <td>tool bag</td>\n",
       "      <td>187196293335</td>\n",
       "    </tr>\n",
       "    <tr>\n",
       "      <th>2</th>\n",
       "      <td>https://www.ebay.com.au/itm/187196293335</td>\n",
       "      <td>tool tote</td>\n",
       "      <td>187196293335</td>\n",
       "    </tr>\n",
       "    <tr>\n",
       "      <th>3</th>\n",
       "      <td>https://www.ebay.com.au/itm/187196293335</td>\n",
       "      <td>tool bag heavy duty</td>\n",
       "      <td>187196293335</td>\n",
       "    </tr>\n",
       "    <tr>\n",
       "      <th>4</th>\n",
       "      <td>https://www.ebay.com.au/itm/187196293335</td>\n",
       "      <td>tool bag with wheels</td>\n",
       "      <td>187196293335</td>\n",
       "    </tr>\n",
       "    <tr>\n",
       "      <th>5</th>\n",
       "      <td>https://www.ebay.com.au/itm/187031698820</td>\n",
       "      <td>foam cutter</td>\n",
       "      <td>187031698820</td>\n",
       "    </tr>\n",
       "  </tbody>\n",
       "</table>\n",
       "</div>"
      ],
      "text/plain": [
       "                        Link of the Product               Keyword  \\\n",
       "0  https://www.ebay.com.au/itm/187196293335              tool bag   \n",
       "2  https://www.ebay.com.au/itm/187196293335             tool tote   \n",
       "3  https://www.ebay.com.au/itm/187196293335   tool bag heavy duty   \n",
       "4  https://www.ebay.com.au/itm/187196293335  tool bag with wheels   \n",
       "5  https://www.ebay.com.au/itm/187031698820           foam cutter   \n",
       "\n",
       "     Product ID  \n",
       "0  187196293335  \n",
       "2  187196293335  \n",
       "3  187196293335  \n",
       "4  187196293335  \n",
       "5  187031698820  "
      ]
     },
     "execution_count": 8,
     "metadata": {},
     "output_type": "execute_result"
    }
   ],
   "source": [
    "df.head()\n"
   ]
  },
  {
   "cell_type": "code",
   "execution_count": null,
   "id": "50979cbe",
   "metadata": {},
   "outputs": [],
   "source": [
    "pd.save_csv(\"results_cleaned.csv\", df, index=False)"
   ]
  }
 ],
 "metadata": {
  "kernelspec": {
   "display_name": "Python 3",
   "language": "python",
   "name": "python3"
  },
  "language_info": {
   "codemirror_mode": {
    "name": "ipython",
    "version": 3
   },
   "file_extension": ".py",
   "mimetype": "text/x-python",
   "name": "python",
   "nbconvert_exporter": "python",
   "pygments_lexer": "ipython3",
   "version": "3.13.3"
  }
 },
 "nbformat": 4,
 "nbformat_minor": 5
}
